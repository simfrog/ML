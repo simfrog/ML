{
 "cells": [
  {
   "cell_type": "code",
   "execution_count": 5,
   "id": "desirable-commission",
   "metadata": {},
   "outputs": [
    {
     "data": {
      "text/plain": [
       "'2.4.1'"
      ]
     },
     "execution_count": 5,
     "metadata": {},
     "output_type": "execute_result"
    }
   ],
   "source": [
    "import tensorflow as tf\n",
    "tf.__version__"
   ]
  },
  {
   "cell_type": "code",
   "execution_count": 8,
   "id": "statistical-silver",
   "metadata": {},
   "outputs": [
    {
     "name": "stdout",
     "output_type": "stream",
     "text": [
      "Hello, TensorFlow!\r\n"
     ]
    }
   ],
   "source": [
    "# default graph에 node로 추가\n",
    "hello = tf.constant(\"Hello, TensorFlow!\")\n",
    "\n",
    "# tensorflow 1.x.x는 session을 만들어 run 해야했었지만 2.x.x는 바로 print\n",
    "tf.print(hello)"
   ]
  },
  {
   "cell_type": "markdown",
   "id": "transparent-charleston",
   "metadata": {},
   "source": [
    "# Computational Graph"
   ]
  },
  {
   "cell_type": "code",
   "execution_count": 9,
   "id": "presidential-virginia",
   "metadata": {},
   "outputs": [],
   "source": [
    "# node를 만듬(build graph)\n",
    "node1 = tf.constant(3.0, tf.float32)\n",
    "node2 = tf.constant(4.0) # also tf.float32 implicitly\n",
    "node3 = tf.add(node1, node2)"
   ]
  },
  {
   "cell_type": "code",
   "execution_count": 10,
   "id": "subjective-telephone",
   "metadata": {},
   "outputs": [
    {
     "name": "stdout",
     "output_type": "stream",
     "text": [
      "node1: tf.Tensor(3.0, shape=(), dtype=float32) node2: tf.Tensor(4.0, shape=(), dtype=float32)\n",
      "node3 tf.Tensor(7.0, shape=(), dtype=float32)\n"
     ]
    }
   ],
   "source": [
    "# 결과값이 나오지 않음\n",
    "print(\"node1:\", node1, \"node2:\", node2)\n",
    "print(\"node3\", node3)"
   ]
  },
  {
   "cell_type": "code",
   "execution_count": 11,
   "id": "secure-islam",
   "metadata": {},
   "outputs": [
    {
     "name": "stdout",
     "output_type": "stream",
     "text": [
      "[3, 4]\n",
      "7\n"
     ]
    }
   ],
   "source": [
    "# 결과값\n",
    "tf.print([node1, node2])\n",
    "tf.print(node3)"
   ]
  },
  {
   "cell_type": "markdown",
   "id": "rotary-invitation",
   "metadata": {},
   "source": [
    "# Placeholder"
   ]
  },
  {
   "cell_type": "code",
   "execution_count": 26,
   "id": "electrical-directive",
   "metadata": {},
   "outputs": [
    {
     "name": "stdout",
     "output_type": "stream",
     "text": [
      "tf.Tensor(3, shape=(), dtype=int32)\n",
      "tf.Tensor([4 6], shape=(2,), dtype=int32)\n",
      "tf.Tensor(\n",
      "[[ 3  5  7]\n",
      " [ 9 11 13]], shape=(2, 3), dtype=int32)\n"
     ]
    }
   ],
   "source": [
    "# Tensorflow 1.x.x \n",
    "# a = tf.placeholder(tf.float32)\n",
    "# b = tf.placeholder(tf.float32)\n",
    "#adder _node = a + b\n",
    "\n",
    "# print(sess.run(adder_node, feed_dict={a: 3, b: 4.5}))\n",
    "# print(sess.run(adder_node, feed_dict={a: [1,3], b: [2, 4]}))\n",
    "\n",
    "# Tensorflow 2.x.x\n",
    "\n",
    "# 함수 정의\n",
    "@tf.function\n",
    "def adder(a, b):\n",
    "    return a + b\n",
    "\n",
    "A = tf.constant(1)\n",
    "B = tf.constant(2)\n",
    "print(adder(A,B))\n",
    "\n",
    "C = tf.constant([1, 2])\n",
    "D = tf.constant([3, 4])\n",
    "print(adder(C, D))\n",
    "\n",
    "E = tf.constant([[1, 2, 3], [4, 5, 6]])\n",
    "F = tf.constant([[2, 3, 4], [5, 6, 7]])\n",
    "print(adder(E, F))"
   ]
  }
 ],
 "metadata": {
  "kernelspec": {
   "display_name": "Python 3",
   "language": "python",
   "name": "python3"
  },
  "language_info": {
   "codemirror_mode": {
    "name": "ipython",
    "version": 3
   },
   "file_extension": ".py",
   "mimetype": "text/x-python",
   "name": "python",
   "nbconvert_exporter": "python",
   "pygments_lexer": "ipython3",
   "version": "3.7.9"
  }
 },
 "nbformat": 4,
 "nbformat_minor": 5
}
