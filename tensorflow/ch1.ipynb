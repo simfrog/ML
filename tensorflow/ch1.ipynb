{
 "cells": [
  {
   "cell_type": "code",
   "execution_count": 3,
   "id": "desirable-commission",
   "metadata": {},
   "outputs": [
    {
     "data": {
      "text/plain": [
       "'2.4.1'"
      ]
     },
     "execution_count": 3,
     "metadata": {},
     "output_type": "execute_result"
    }
   ],
   "source": [
    "import tensorflow as tf\n",
    "import numpy as np\n",
    "tf.__version__"
   ]
  },
  {
   "cell_type": "markdown",
   "id": "concerned-treasurer",
   "metadata": {},
   "source": [
    "# Eager Execution(즉시 실행 모드)"
   ]
  },
  {
   "cell_type": "markdown",
   "id": "responsible-ceramic",
   "metadata": {},
   "source": [
    "Tensorflow 1.x : 는 계산 그래프를 선언하고, 세션을 통해 Tensor를 주고 받으며 계산하는 구조\n",
    "Tensorflow 2.x : 자동으로 Eager Execution(즉시 실행 모드)가 적용되기 때문에 그래프와 세션을 만들지 않아도 Tensor 값을 계산하고 numpy()함수를 이요하면 파이썬의 numpy 타입으로 변환할 수 있음"
   ]
  },
  {
   "cell_type": "code",
   "execution_count": 2,
   "id": "statistical-silver",
   "metadata": {},
   "outputs": [
    {
     "name": "stdout",
     "output_type": "stream",
     "text": [
      "Hello, TensorFlow!\r\n"
     ]
    }
   ],
   "source": [
    "# default graph에 node로 추가\n",
    "hello = tf.constant(\"Hello, TensorFlow!\")\n",
    "\n",
    "# tensorflow 1.x.x는 session을 만들어 run 해야했었지만 2.x.x는 바로 print\n",
    "tf.print(hello)"
   ]
  },
  {
   "cell_type": "code",
   "execution_count": 4,
   "id": "presidential-virginia",
   "metadata": {},
   "outputs": [],
   "source": [
    "a = tf.constant(10)\n",
    "b = tf.constant(20)\n",
    "\n",
    "c = a + b\n",
    "d = (a+b).numpy() # numpy() 메소드는 numpy 값을 리턴"
   ]
  },
  {
   "cell_type": "code",
   "execution_count": 5,
   "id": "subjective-telephone",
   "metadata": {},
   "outputs": [
    {
     "name": "stdout",
     "output_type": "stream",
     "text": [
      "<class 'tensorflow.python.framework.ops.EagerTensor'>\n",
      "tf.Tensor(30, shape=(), dtype=int32)\n",
      "<class 'numpy.int32'> 30\n"
     ]
    }
   ],
   "source": [
    "print(type(c))\n",
    "print(c)\n",
    "print(type(d), d)"
   ]
  },
  {
   "cell_type": "code",
   "execution_count": 6,
   "id": "secure-islam",
   "metadata": {},
   "outputs": [],
   "source": [
    "# numpy 값을 tensor 값으로 변환\n",
    "d_numpy_to_tensor = tf.convert_to_tensor(d)"
   ]
  },
  {
   "cell_type": "code",
   "execution_count": 7,
   "id": "automotive-moscow",
   "metadata": {},
   "outputs": [
    {
     "name": "stdout",
     "output_type": "stream",
     "text": [
      "<class 'tensorflow.python.framework.ops.EagerTensor'>\n",
      "tf.Tensor(30, shape=(), dtype=int32)\n"
     ]
    }
   ],
   "source": [
    "print(type(d_numpy_to_tensor))\n",
    "print(d_numpy_to_tensor)"
   ]
  },
  {
   "cell_type": "markdown",
   "id": "surgical-coating",
   "metadata": {},
   "source": [
    "# tf.constant()"
   ]
  },
  {
   "cell_type": "code",
   "execution_count": 8,
   "id": "divine-chosen",
   "metadata": {},
   "outputs": [
    {
     "name": "stdout",
     "output_type": "stream",
     "text": [
      "3.0\n"
     ]
    }
   ],
   "source": [
    "a = tf.constant(1.0)\n",
    "b = tf.constant(2.0)\n",
    "\n",
    "c = a + b\n",
    "\n",
    "print(c.numpy())"
   ]
  },
  {
   "cell_type": "markdown",
   "id": "surgical-rhythm",
   "metadata": {},
   "source": [
    "# tf.Variable()"
   ]
  },
  {
   "cell_type": "code",
   "execution_count": 11,
   "id": "floppy-steps",
   "metadata": {},
   "outputs": [
    {
     "name": "stdout",
     "output_type": "stream",
     "text": [
      "inital W =  [0.43114734]\n",
      "=======================================================\n",
      "step =  0 , W =  [1.4311473]\n",
      "step =  1 , W =  [2.4311473]\n"
     ]
    }
   ],
   "source": [
    "# 가우시안 분포\n",
    "W = tf.Variable(tf.random.normal([1]))\n",
    "\n",
    "print('inital W = ', W.numpy())\n",
    "print('=======================================================')\n",
    "\n",
    "# session 생성 없이 즉시 실행\n",
    "# numpy() 메서드 사용하면 numpy 값을 리턴해줌\n",
    "\n",
    "for step in range(2):\n",
    "    W = W + 1.0\n",
    "    print('step = ', step, ', W = ', W.numpy())"
   ]
  },
  {
   "cell_type": "markdown",
   "id": "rotary-invitation",
   "metadata": {},
   "source": [
    "# tf.placeholder()"
   ]
  },
  {
   "cell_type": "code",
   "execution_count": 12,
   "id": "indoor-convert",
   "metadata": {},
   "outputs": [
    {
     "name": "stdout",
     "output_type": "stream",
     "text": [
      "<class 'tensorflow.python.framework.ops.EagerTensor'>\n",
      "4.0\n"
     ]
    }
   ],
   "source": [
    "a = tf.constant(1.0)\n",
    "b = tf.constant(3.0)\n",
    "\n",
    "# 함수 정의\n",
    "def tensor_sum(x, y):\n",
    "    return x + y\n",
    "\n",
    "result = tensor_sum(a, b)\n",
    "\n",
    "print(type(result))\n",
    "print(result.numpy())"
   ]
  },
  {
   "cell_type": "code",
   "execution_count": 9,
   "id": "electrical-directive",
   "metadata": {},
   "outputs": [
    {
     "name": "stdout",
     "output_type": "stream",
     "text": [
      "tf.Tensor(3, shape=(), dtype=int32)\n",
      "3\n",
      "tf.Tensor([4 6], shape=(2,), dtype=int32)\n",
      "[4 6]\n",
      "tf.Tensor(\n",
      "[[ 3  5  7]\n",
      " [ 9 11 13]], shape=(2, 3), dtype=int32)\n",
      "[[ 3  5  7]\n",
      " [ 9 11 13]]\n"
     ]
    }
   ],
   "source": [
    "# 함수 정의\n",
    "@tf.function\n",
    "def adder(a, b):\n",
    "    return a + b\n",
    "\n",
    "A = tf.constant(1)\n",
    "B = tf.constant(2)\n",
    "print(adder(A,B))\n",
    "print(adder(A,B).numpy())\n",
    "\n",
    "C = tf.constant([1, 2])\n",
    "D = tf.constant([3, 4])\n",
    "print(adder(C, D))\n",
    "print(adder(C, D).numpy())\n",
    "\n",
    "E = tf.constant([[1, 2, 3], [4, 5, 6]])\n",
    "F = tf.constant([[2, 3, 4], [5, 6, 7]])\n",
    "print(adder(E, F))\n",
    "print(adder(E, F).numpy())"
   ]
  }
 ],
 "metadata": {
  "kernelspec": {
   "display_name": "Python 3",
   "language": "python",
   "name": "python3"
  },
  "language_info": {
   "codemirror_mode": {
    "name": "ipython",
    "version": 3
   },
   "file_extension": ".py",
   "mimetype": "text/x-python",
   "name": "python",
   "nbconvert_exporter": "python",
   "pygments_lexer": "ipython3",
   "version": "3.7.9"
  }
 },
 "nbformat": 4,
 "nbformat_minor": 5
}
