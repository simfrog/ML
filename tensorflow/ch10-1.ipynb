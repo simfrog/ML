{
 "cells": [
  {
   "cell_type": "code",
   "execution_count": 1,
   "id": "involved-differential",
   "metadata": {},
   "outputs": [],
   "source": [
    "# mnist_softmax\n",
    "# Learning rate and Evaluation\n",
    "import tensorflow as tf"
   ]
  },
  {
   "cell_type": "code",
   "execution_count": 4,
   "id": "unlike-turning",
   "metadata": {},
   "outputs": [
    {
     "name": "stdout",
     "output_type": "stream",
     "text": [
      "(60000, 28, 28)\n"
     ]
    }
   ],
   "source": [
    "learning_rate = 0.001\n",
    "batch_size = 100\n",
    "training_epochs = 15\n",
    "nb_classes = 10\n",
    "\n",
    "mnist = tf.keras.datasets.mnist\n",
    "\n",
    "(x_train, y_train), (x_test, y_test) = mnist.load_data()\n",
    "\n",
    "# normalizing data\n",
    "x_train, x_test = x_train / 255.0, x_test / 255.0\n",
    "\n",
    "# change data shape\n",
    "print(x_train.shape)\n",
    "x_train = x_train.reshape(x_train.shape[0], x_train.shape[1] * x_train.shape[2])\n",
    "x_test = x_test.reshape(x_test.shape[0], x_test.shape[1] * x_test.shape[2])\n",
    "\n",
    "# change result to one-hot encoding\n",
    "# in tf1, one_hot= True in read_data_sets(\"MNIST_data/\", one_hot=True)\n",
    "# took care of it, but here we need to manually convert them\n",
    "y_train = tf.keras.utils.to_categorical(y_train, 10)\n",
    "y_test = tf.keras.utils.to_categorical(y_test, 10)"
   ]
  },
  {
   "cell_type": "code",
   "execution_count": 6,
   "id": "olympic-martial",
   "metadata": {},
   "outputs": [
    {
     "name": "stdout",
     "output_type": "stream",
     "text": [
      "Model: \"sequential_1\"\n",
      "_________________________________________________________________\n",
      "Layer (type)                 Output Shape              Param #   \n",
      "=================================================================\n",
      "dense_1 (Dense)              (None, 10)                7850      \n",
      "=================================================================\n",
      "Total params: 7,850\n",
      "Trainable params: 7,850\n",
      "Non-trainable params: 0\n",
      "_________________________________________________________________\n"
     ]
    }
   ],
   "source": [
    "# # Consider an array of 5 labels out of a set of 3 classes {0, 1, 2}:\n",
    "# array([0, 2, 1, 2, 0])\n",
    "# `to_categorical` converts this into a matrix with as many columns as there are classes. The number of rows\n",
    "#  stays the same. to_categorical(labels)\n",
    "# array([[ 1.,  0.,  0.],\n",
    "#        [ 0.,  0.,  1.],\n",
    "#        [ 0.,  1.,  0.],\n",
    "#        [ 0.,  0.,  1.],\n",
    "#        [ 1.,  0.,  0.]], dtype=float32)\n",
    "\n",
    "tf.model = tf.keras.Sequential()\n",
    "tf.model.add(tf.keras.layers.Dense(units=10, input_dim=784, activation='softmax'))\n",
    "tf.model.compile(loss='categorical_crossentropy', optimizer=tf.optimizers.Adam(0.001), metrics=['accuracy'])\n",
    "tf.model.summary()"
   ]
  },
  {
   "cell_type": "code",
   "execution_count": 7,
   "id": "removed-seattle",
   "metadata": {},
   "outputs": [
    {
     "name": "stdout",
     "output_type": "stream",
     "text": [
      "Epoch 1/15\n",
      "600/600 [==============================] - 1s 748us/step - loss: 0.9651 - accuracy: 0.7523\n",
      "Epoch 2/15\n",
      "600/600 [==============================] - 0s 751us/step - loss: 0.3584 - accuracy: 0.9041\n",
      "Epoch 3/15\n",
      "600/600 [==============================] - 0s 736us/step - loss: 0.3113 - accuracy: 0.9148\n",
      "Epoch 4/15\n",
      "600/600 [==============================] - 0s 718us/step - loss: 0.2947 - accuracy: 0.91930s - loss: 0.3045 - \n",
      "Epoch 5/15\n",
      "600/600 [==============================] - 0s 724us/step - loss: 0.2867 - accuracy: 0.9209\n",
      "Epoch 6/15\n",
      "600/600 [==============================] - 0s 791us/step - loss: 0.2730 - accuracy: 0.9229\n",
      "Epoch 7/15\n",
      "600/600 [==============================] - 0s 779us/step - loss: 0.2712 - accuracy: 0.9240\n",
      "Epoch 8/15\n",
      "600/600 [==============================] - 0s 719us/step - loss: 0.2624 - accuracy: 0.9271\n",
      "Epoch 9/15\n",
      "600/600 [==============================] - 0s 757us/step - loss: 0.2598 - accuracy: 0.9271\n",
      "Epoch 10/15\n",
      "600/600 [==============================] - 0s 711us/step - loss: 0.2555 - accuracy: 0.9287\n",
      "Epoch 11/15\n",
      "600/600 [==============================] - 0s 752us/step - loss: 0.2569 - accuracy: 0.9292\n",
      "Epoch 12/15\n",
      "600/600 [==============================] - 0s 756us/step - loss: 0.2526 - accuracy: 0.9305\n",
      "Epoch 13/15\n",
      "600/600 [==============================] - 0s 718us/step - loss: 0.2456 - accuracy: 0.9310\n",
      "Epoch 14/15\n",
      "600/600 [==============================] - 0s 796us/step - loss: 0.2545 - accuracy: 0.9292\n",
      "Epoch 15/15\n",
      "600/600 [==============================] - 1s 878us/step - loss: 0.2438 - accuracy: 0.9330\n"
     ]
    }
   ],
   "source": [
    "history = tf.model.fit(x_train, y_train, batch_size=batch_size, epochs=training_epochs)"
   ]
  },
  {
   "cell_type": "code",
   "execution_count": 8,
   "id": "humanitarian-passenger",
   "metadata": {},
   "outputs": [
    {
     "name": "stdout",
     "output_type": "stream",
     "text": [
      "Prediction: \n",
      " [[3.0854947e-06 1.0839685e-11 6.8773038e-06 ... 9.9406993e-01\n",
      "  1.8119765e-05 4.7255188e-04]\n",
      " [4.2884616e-04 3.0351871e-06 9.9218374e-01 ... 1.8956023e-17\n",
      "  4.6852198e-05 6.4791658e-14]\n",
      " [1.4948712e-06 9.7973162e-01 1.1377638e-02 ... 8.1720360e-04\n",
      "  3.1771348e-03 2.5862234e-04]\n",
      " ...\n",
      " [1.7254518e-08 1.0856394e-08 3.4643426e-06 ... 1.6735143e-03\n",
      "  8.0414116e-03 2.7988130e-02]\n",
      " [2.6636812e-07 4.1726852e-07 2.6214195e-07 ... 1.3975904e-07\n",
      "  1.0220069e-02 2.4665610e-07]\n",
      " [9.3407078e-07 2.5757184e-14 3.2940825e-05 ... 1.0304344e-12\n",
      "  2.1134674e-08 4.6330516e-11]]\n",
      "1875/1875 [==============================] - 1s 447us/step - loss: 0.2467 - accuracy: 0.9322\n",
      "Accuracy:  0.932200014591217\n"
     ]
    }
   ],
   "source": [
    "predictions = tf.model.predict(x_test)\n",
    "print('Prediction: \\n', predictions)\n",
    "x_train\n",
    "score = tf.model.evaluate(x_train, y_train)\n",
    "print('Accuracy: ', score[1])"
   ]
  },
  {
   "cell_type": "code",
   "execution_count": 9,
   "id": "different-adobe",
   "metadata": {},
   "outputs": [
    {
     "data": {
      "text/plain": [
       "array([[0., 0., 0., ..., 0., 0., 0.],\n",
       "       [0., 0., 0., ..., 0., 0., 0.],\n",
       "       [0., 0., 0., ..., 0., 0., 0.],\n",
       "       ...,\n",
       "       [0., 0., 0., ..., 0., 0., 0.],\n",
       "       [0., 0., 0., ..., 0., 0., 0.],\n",
       "       [0., 0., 0., ..., 0., 0., 0.]])"
      ]
     },
     "execution_count": 9,
     "metadata": {},
     "output_type": "execute_result"
    }
   ],
   "source": [
    "x_train"
   ]
  }
 ],
 "metadata": {
  "kernelspec": {
   "display_name": "Python 3",
   "language": "python",
   "name": "python3"
  },
  "language_info": {
   "codemirror_mode": {
    "name": "ipython",
    "version": 3
   },
   "file_extension": ".py",
   "mimetype": "text/x-python",
   "name": "python",
   "nbconvert_exporter": "python",
   "pygments_lexer": "ipython3",
   "version": "3.7.9"
  }
 },
 "nbformat": 4,
 "nbformat_minor": 5
}
