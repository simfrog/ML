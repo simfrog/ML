{
 "cells": [
  {
   "cell_type": "code",
   "execution_count": 1,
   "id": "tight-chemical",
   "metadata": {},
   "outputs": [],
   "source": [
    "# Character Sequence RNN\n",
    "import numpy as np\n",
    "import tensorflow as tf"
   ]
  },
  {
   "cell_type": "code",
   "execution_count": 4,
   "id": "hollywood-chorus",
   "metadata": {},
   "outputs": [
    {
     "name": "stdout",
     "output_type": "stream",
     "text": [
      "Model: \"sequential\"\n",
      "_________________________________________________________________\n",
      "Layer (type)                 Output Shape              Param #   \n",
      "=================================================================\n",
      "lstm (LSTM)                  (None, 15, 10)            840       \n",
      "_________________________________________________________________\n",
      "time_distributed (TimeDistri (None, 15, 10)            110       \n",
      "=================================================================\n",
      "Total params: 950\n",
      "Trainable params: 950\n",
      "Non-trainable params: 0\n",
      "_________________________________________________________________\n"
     ]
    }
   ],
   "source": [
    "sample = \" if you want you\"\n",
    "idx2char = list(set(sample)) # index -> char\n",
    "char2idx = {c: i for i, c in enumerate(idx2char)} # char -> idex\n",
    "\n",
    "# hyper parameters\n",
    "dic_size = len(char2idx) # RNN input size (one hot size)\n",
    "hidden_size = len(char2idx) # RNN output size\n",
    "num_classes = len(char2idx) # final output ize (RNN or softmax, etc.)\n",
    "batch_size = 1 # one sample data, one batch\n",
    "sequence_length = len(sample) - 1 # number of lstm rollings (unit #)\n",
    "learning_rate = 0.1\n",
    "\n",
    "sample_idx = [char2idx[c] for c in sample] # char to index\n",
    "x_data = [sample_idx[:-1]] # X data sample (0 ~ n-1) hello: hell\n",
    "y_data = [sample_idx[1:]] # Y label sample (1 ~ n) hello: ello\n",
    "\n",
    "x_one_hot_eager = tf.one_hot(x_data, num_classes) # one hot: 1 -> 0 1 0 0 0 0 0 0 0 0\n",
    "x_one_hot_numpy = tf.keras.utils.to_categorical(x_data, num_classes) # it'll generate numpy array, either way works\n",
    "y_one_hot_eager = tf.one_hot(y_data, num_classes)\n",
    "\n",
    "tf.model = tf.keras.Sequential()\n",
    "tf.model.add(tf.keras.layers.LSTM(units=num_classes, input_shape=(sequence_length, x_one_hot_eager.shape[2]), return_sequences=True))\n",
    "tf.model.add(tf.keras.layers.TimeDistributed(tf.keras.layers.Dense(units=num_classes, activation='softmax')))\n",
    "tf.model.summary()"
   ]
  },
  {
   "cell_type": "code",
   "execution_count": 5,
   "id": "deadly-depression",
   "metadata": {},
   "outputs": [
    {
     "name": "stdout",
     "output_type": "stream",
     "text": [
      "Epoch 1/50\n",
      "1/1 [==============================] - 1s 1s/step - loss: 2.3069 - accuracy: 0.0000e+00\n",
      "Epoch 2/50\n",
      "1/1 [==============================] - 0s 6ms/step - loss: 2.1616 - accuracy: 0.2667\n",
      "Epoch 3/50\n",
      "1/1 [==============================] - 0s 6ms/step - loss: 2.0222 - accuracy: 0.4667\n",
      "Epoch 4/50\n",
      "1/1 [==============================] - 0s 5ms/step - loss: 1.8351 - accuracy: 0.5333\n",
      "Epoch 5/50\n",
      "1/1 [==============================] - 0s 6ms/step - loss: 1.5965 - accuracy: 0.5333\n",
      "Epoch 6/50\n",
      "1/1 [==============================] - 0s 5ms/step - loss: 1.3127 - accuracy: 0.6667\n",
      "Epoch 7/50\n",
      "1/1 [==============================] - 0s 5ms/step - loss: 1.0381 - accuracy: 0.7333\n",
      "Epoch 8/50\n",
      "1/1 [==============================] - 0s 6ms/step - loss: 0.8026 - accuracy: 0.8000\n",
      "Epoch 9/50\n",
      "1/1 [==============================] - 0s 4ms/step - loss: 0.6136 - accuracy: 0.8667\n",
      "Epoch 10/50\n",
      "1/1 [==============================] - 0s 6ms/step - loss: 0.4594 - accuracy: 1.0000\n",
      "Epoch 11/50\n",
      "1/1 [==============================] - 0s 6ms/step - loss: 0.3358 - accuracy: 1.0000\n",
      "Epoch 12/50\n",
      "1/1 [==============================] - 0s 6ms/step - loss: 0.2429 - accuracy: 1.0000\n",
      "Epoch 13/50\n",
      "1/1 [==============================] - 0s 5ms/step - loss: 0.1847 - accuracy: 1.0000\n",
      "Epoch 14/50\n",
      "1/1 [==============================] - 0s 6ms/step - loss: 0.1385 - accuracy: 1.0000\n",
      "Epoch 15/50\n",
      "1/1 [==============================] - 0s 4ms/step - loss: 0.1023 - accuracy: 1.0000\n",
      "Epoch 16/50\n",
      "1/1 [==============================] - 0s 5ms/step - loss: 0.0765 - accuracy: 1.0000\n",
      "Epoch 17/50\n",
      "1/1 [==============================] - 0s 6ms/step - loss: 0.0594 - accuracy: 1.0000\n",
      "Epoch 18/50\n",
      "1/1 [==============================] - 0s 5ms/step - loss: 0.0457 - accuracy: 1.0000\n",
      "Epoch 19/50\n",
      "1/1 [==============================] - 0s 6ms/step - loss: 0.0348 - accuracy: 1.0000\n",
      "Epoch 20/50\n",
      "1/1 [==============================] - 0s 4ms/step - loss: 0.0264 - accuracy: 1.0000\n",
      "Epoch 21/50\n",
      "1/1 [==============================] - 0s 6ms/step - loss: 0.0199 - accuracy: 1.0000\n",
      "Epoch 22/50\n",
      "1/1 [==============================] - 0s 5ms/step - loss: 0.0153 - accuracy: 1.0000\n",
      "Epoch 23/50\n",
      "1/1 [==============================] - 0s 5ms/step - loss: 0.0119 - accuracy: 1.0000\n",
      "Epoch 24/50\n",
      "1/1 [==============================] - 0s 5ms/step - loss: 0.0093 - accuracy: 1.0000\n",
      "Epoch 25/50\n",
      "1/1 [==============================] - 0s 6ms/step - loss: 0.0073 - accuracy: 1.0000\n",
      "Epoch 26/50\n",
      "1/1 [==============================] - 0s 5ms/step - loss: 0.0059 - accuracy: 1.0000\n",
      "Epoch 27/50\n",
      "1/1 [==============================] - 0s 5ms/step - loss: 0.0048 - accuracy: 1.0000\n",
      "Epoch 28/50\n",
      "1/1 [==============================] - 0s 6ms/step - loss: 0.0040 - accuracy: 1.0000\n",
      "Epoch 29/50\n",
      "1/1 [==============================] - 0s 5ms/step - loss: 0.0034 - accuracy: 1.0000\n",
      "Epoch 30/50\n",
      "1/1 [==============================] - 0s 6ms/step - loss: 0.0030 - accuracy: 1.0000\n",
      "Epoch 31/50\n",
      "1/1 [==============================] - 0s 6ms/step - loss: 0.0026 - accuracy: 1.0000\n",
      "Epoch 32/50\n",
      "1/1 [==============================] - 0s 6ms/step - loss: 0.0023 - accuracy: 1.0000\n",
      "Epoch 33/50\n",
      "1/1 [==============================] - 0s 4ms/step - loss: 0.0021 - accuracy: 1.0000\n",
      "Epoch 34/50\n",
      "1/1 [==============================] - 0s 5ms/step - loss: 0.0019 - accuracy: 1.0000\n",
      "Epoch 35/50\n",
      "1/1 [==============================] - 0s 6ms/step - loss: 0.0017 - accuracy: 1.0000\n",
      "Epoch 36/50\n",
      "1/1 [==============================] - 0s 5ms/step - loss: 0.0016 - accuracy: 1.0000\n",
      "Epoch 37/50\n",
      "1/1 [==============================] - 0s 6ms/step - loss: 0.0014 - accuracy: 1.0000\n",
      "Epoch 38/50\n",
      "1/1 [==============================] - 0s 4ms/step - loss: 0.0014 - accuracy: 1.0000\n",
      "Epoch 39/50\n",
      "1/1 [==============================] - 0s 6ms/step - loss: 0.0013 - accuracy: 1.0000\n",
      "Epoch 40/50\n",
      "1/1 [==============================] - 0s 6ms/step - loss: 0.0012 - accuracy: 1.0000\n",
      "Epoch 41/50\n",
      "1/1 [==============================] - 0s 5ms/step - loss: 0.0011 - accuracy: 1.0000\n",
      "Epoch 42/50\n",
      "1/1 [==============================] - 0s 5ms/step - loss: 0.0011 - accuracy: 1.0000\n",
      "Epoch 43/50\n",
      "1/1 [==============================] - 0s 5ms/step - loss: 0.0010 - accuracy: 1.0000\n",
      "Epoch 44/50\n",
      "1/1 [==============================] - 0s 6ms/step - loss: 9.6773e-04 - accuracy: 1.0000\n",
      "Epoch 45/50\n",
      "1/1 [==============================] - 0s 4ms/step - loss: 9.2562e-04 - accuracy: 1.0000\n",
      "Epoch 46/50\n",
      "1/1 [==============================] - 0s 5ms/step - loss: 8.8754e-04 - accuracy: 1.0000\n",
      "Epoch 47/50\n",
      "1/1 [==============================] - 0s 5ms/step - loss: 8.5293e-04 - accuracy: 1.0000\n",
      "Epoch 48/50\n",
      "1/1 [==============================] - 0s 5ms/step - loss: 8.2147e-04 - accuracy: 1.0000\n",
      "Epoch 49/50\n",
      "1/1 [==============================] - 0s 4ms/step - loss: 7.9278e-04 - accuracy: 1.0000\n",
      "Epoch 50/50\n",
      "1/1 [==============================] - 0s 4ms/step - loss: 7.6659e-04 - accuracy: 1.0000\n"
     ]
    },
    {
     "data": {
      "text/plain": [
       "<tensorflow.python.keras.callbacks.History at 0x1d5427ef9c8>"
      ]
     },
     "execution_count": 5,
     "metadata": {},
     "output_type": "execute_result"
    }
   ],
   "source": [
    "tf.model.compile(loss='categorical_crossentropy', optimizer=tf.keras.optimizers.Adam(lr=learning_rate), metrics=['accuracy'])\n",
    "tf.model.fit(x_one_hot_eager, y_one_hot_eager, epochs=50)"
   ]
  },
  {
   "cell_type": "code",
   "execution_count": 9,
   "id": "determined-plaza",
   "metadata": {},
   "outputs": [
    {
     "name": "stdout",
     "output_type": "stream",
     "text": [
      "\tPrediction str:  if you want you\n"
     ]
    }
   ],
   "source": [
    "predictions = tf.model.predict(x_one_hot_eager)\n",
    "\n",
    "for i, prediction in enumerate(predictions):\n",
    "    # print char using argmax, dic\n",
    "    result_str = [idx2char[c] for c in np.argmax(prediction, axis=1)]\n",
    "    print(\"\\tPrediction str: \", ''.join(result_str))"
   ]
  }
 ],
 "metadata": {
  "kernelspec": {
   "display_name": "Python 3",
   "language": "python",
   "name": "python3"
  },
  "language_info": {
   "codemirror_mode": {
    "name": "ipython",
    "version": 3
   },
   "file_extension": ".py",
   "mimetype": "text/x-python",
   "name": "python",
   "nbconvert_exporter": "python",
   "pygments_lexer": "ipython3",
   "version": "3.7.9"
  }
 },
 "nbformat": 4,
 "nbformat_minor": 5
}
